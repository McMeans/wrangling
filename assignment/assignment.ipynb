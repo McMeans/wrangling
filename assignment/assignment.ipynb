{
  "cells": [
    {
      "cell_type": "markdown",
      "id": "13ad028b-72b7-43ed-aa78-96fd4e518040",
      "metadata": {
        "id": "13ad028b-72b7-43ed-aa78-96fd4e518040"
      },
      "source": [
        "# Assignment: Data Wrangling\n",
        "### `! git clone https://github.com/ds4e/wrangling`\n",
        "### Do Q2, and one of Q1 or Q3."
      ]
    },
    {
      "cell_type": "markdown",
      "id": "da879ea7-8aac-48a3-b6c2-daea56d2e072",
      "metadata": {
        "id": "da879ea7-8aac-48a3-b6c2-daea56d2e072"
      },
      "source": [
        "**Q1.** This question provides some practice cleaning variables which have common problems.\n",
        "1. Numeric variable: For `./data/airbnb_hw.csv`, clean the `Price` variable as well as you can, and explain the choices you make. How many missing values do you end up with? (Hint: What happens to the formatting when a price goes over 999 dollars, say from 675 to 1,112?)\n",
        "2. Categorical variable: For the Minnesota police use of for data, `./data/mn_police_use_of_force.csv`, clean the `subject_injury` variable, handling the NA's; this gives a value `Yes` when a person was injured by police, and `No` when no injury occurred. What proportion of the values are missing? Is this a concern? Cross-tabulate your cleaned `subject_injury` variable with the `force_type` variable. Are there any patterns regarding when the data are missing? \n",
        "3. Dummy variable: For the pretrial data covered in the lecture, clean the `WhetherDefendantWasReleasedPretrial` variable as well as you can, and, in particular, replace missing values with `np.nan`.\n",
        "4. Missing values, not at random: For the pretrial data covered in the lecture, clean the `ImposedSentenceAllChargeInContactEvent` variable as well as you can, and explain the choices you make. (Hint: Look at the `SentenceTypeAllChargesAtConvictionInContactEvent` variable.)"
      ]
    },
    {
      "cell_type": "markdown",
      "id": "5a60a44e",
      "metadata": {},
      "source": [
        "**Q2.** Go to https://sharkattackfile.net/ and download their dataset on shark attacks.\n",
        "\n",
        "1. Open the shark attack file using Pandas. It is probably not a csv file, so `read_csv` won't work.\n",
        "2. Drop any columns that do not contain data.\n",
        "3. Clean the year variable. Describe the range of values you see. Filter the rows to focus on attacks since 1940. Are attacks increasing, decreasing, or remaining constant over time?\n",
        "4. Clean the Age variable and make a histogram of the ages of the victims.\n",
        "5. What proportion of victims are male?\n",
        "6. Clean the `Type` variable so it only takes three values: Provoked and Unprovoked and Unknown. What proportion of attacks are unprovoked?\n",
        "7. Clean the `Fatal Y/N` variable so it only takes three values: Y, N, and Unknown.\n",
        "8. Are sharks more likely to launch unprovoked attacks on men or women? Is the attack more or less likely to be fatal when the attack is provoked or unprovoked? Is it more or less likely to be fatal when the victim is male or female? How do you feel about sharks?\n",
        "9. What proportion of attacks appear to be by white sharks? (Hint: `str.split()` makes a vector of text values into a list of lists, split by spaces.)"
      ]
    },
    {
      "cell_type": "code",
      "execution_count": 138,
      "id": "38bc7900",
      "metadata": {},
      "outputs": [
        {
          "data": {
            "text/html": [
              "<div>\n",
              "<style scoped>\n",
              "    .dataframe tbody tr th:only-of-type {\n",
              "        vertical-align: middle;\n",
              "    }\n",
              "\n",
              "    .dataframe tbody tr th {\n",
              "        vertical-align: top;\n",
              "    }\n",
              "\n",
              "    .dataframe thead th {\n",
              "        text-align: right;\n",
              "    }\n",
              "</style>\n",
              "<table border=\"1\" class=\"dataframe\">\n",
              "  <thead>\n",
              "    <tr style=\"text-align: right;\">\n",
              "      <th></th>\n",
              "      <th>Date</th>\n",
              "      <th>Year</th>\n",
              "      <th>Type</th>\n",
              "      <th>Country</th>\n",
              "      <th>State</th>\n",
              "      <th>Location</th>\n",
              "      <th>Activity</th>\n",
              "      <th>Name</th>\n",
              "      <th>Sex</th>\n",
              "      <th>Age</th>\n",
              "      <th>Injury</th>\n",
              "      <th>Fatal Y/N</th>\n",
              "      <th>Time</th>\n",
              "      <th>Species</th>\n",
              "      <th>Source</th>\n",
              "    </tr>\n",
              "  </thead>\n",
              "  <tbody>\n",
              "    <tr>\n",
              "      <th>0</th>\n",
              "      <td>2025-01-11 00:00:00</td>\n",
              "      <td>2025</td>\n",
              "      <td>Provoked</td>\n",
              "      <td>USA</td>\n",
              "      <td>Hawaii</td>\n",
              "      <td>Off Haleiwa Boat Harbour Oahu</td>\n",
              "      <td>Diving</td>\n",
              "      <td>Male not stated was a dive tour worker</td>\n",
              "      <td>M</td>\n",
              "      <td>23</td>\n",
              "      <td>Bitten on the arm</td>\n",
              "      <td>N</td>\n",
              "      <td>1340hrs</td>\n",
              "      <td>Not stated</td>\n",
              "      <td>Kevin McMurray Trackingsharks.com</td>\n",
              "    </tr>\n",
              "    <tr>\n",
              "      <th>1</th>\n",
              "      <td>2025-01-02 00:00:00</td>\n",
              "      <td>2025</td>\n",
              "      <td>Unprovoked</td>\n",
              "      <td>New Caledonia</td>\n",
              "      <td>Grande Terre</td>\n",
              "      <td>Islet of Kendek near Koumac</td>\n",
              "      <td>Spearfishing</td>\n",
              "      <td>Robert Cuewapuru</td>\n",
              "      <td>M</td>\n",
              "      <td>40</td>\n",
              "      <td>Severe arm injury and delay in medical treatme...</td>\n",
              "      <td>Y</td>\n",
              "      <td>1615hr</td>\n",
              "      <td>Reportedly Tiger or Bull shark</td>\n",
              "      <td>Johannes Marchand Todd Smith</td>\n",
              "    </tr>\n",
              "    <tr>\n",
              "      <th>2</th>\n",
              "      <td>2025-01-02 00:00:00</td>\n",
              "      <td>2025</td>\n",
              "      <td>Unprovoked</td>\n",
              "      <td>Australia</td>\n",
              "      <td>South Australia</td>\n",
              "      <td>Granites Beach near Westall Streaky Bay</td>\n",
              "      <td>Surfing</td>\n",
              "      <td>Lance Appleby</td>\n",
              "      <td>M</td>\n",
              "      <td>28</td>\n",
              "      <td>Body not recovered</td>\n",
              "      <td>Y</td>\n",
              "      <td>1710hr</td>\n",
              "      <td>Great White Shart estimated 4.8m 16 ft</td>\n",
              "      <td>Glen Folkard: Simon De Marchi News.com.au: The...</td>\n",
              "    </tr>\n",
              "    <tr>\n",
              "      <th>3</th>\n",
              "      <td>2024-12-29 00:00:00</td>\n",
              "      <td>2024</td>\n",
              "      <td>Unprovoked</td>\n",
              "      <td>Egypt</td>\n",
              "      <td>North of Marsa Alam</td>\n",
              "      <td>Red Sea</td>\n",
              "      <td>SCUBA Diving</td>\n",
              "      <td>Peppino Fappani</td>\n",
              "      <td>M</td>\n",
              "      <td>69</td>\n",
              "      <td>Injuries to stomach preventing attack on friend</td>\n",
              "      <td>N</td>\n",
              "      <td>?</td>\n",
              "      <td>Reportedly a Tiger Shark</td>\n",
              "      <td>Todd Smith : Kevin McMurray Trackingsharks .co...</td>\n",
              "    </tr>\n",
              "    <tr>\n",
              "      <th>4</th>\n",
              "      <td>2024-12-29 00:00:00</td>\n",
              "      <td>2024</td>\n",
              "      <td>Unprovoked</td>\n",
              "      <td>Egypt</td>\n",
              "      <td>North of Marsa Alam</td>\n",
              "      <td>Red Sea</td>\n",
              "      <td>SCUBA Diving</td>\n",
              "      <td>Gianluca Di Gioia</td>\n",
              "      <td>M</td>\n",
              "      <td>48</td>\n",
              "      <td>Entire calf muscle removed and bitten both arm...</td>\n",
              "      <td>Y</td>\n",
              "      <td>?</td>\n",
              "      <td>Reportedly a Tiger Shark</td>\n",
              "      <td>Todd Smith : Kevin McMurray Trackingsharks .co...</td>\n",
              "    </tr>\n",
              "    <tr>\n",
              "      <th>...</th>\n",
              "      <td>...</td>\n",
              "      <td>...</td>\n",
              "      <td>...</td>\n",
              "      <td>...</td>\n",
              "      <td>...</td>\n",
              "      <td>...</td>\n",
              "      <td>...</td>\n",
              "      <td>...</td>\n",
              "      <td>...</td>\n",
              "      <td>...</td>\n",
              "      <td>...</td>\n",
              "      <td>...</td>\n",
              "      <td>...</td>\n",
              "      <td>...</td>\n",
              "      <td>...</td>\n",
              "    </tr>\n",
              "    <tr>\n",
              "      <th>6856</th>\n",
              "      <td>Ca 1588.04.00</td>\n",
              "      <td>1518</td>\n",
              "      <td>Unprovoked</td>\n",
              "      <td>MEXICO</td>\n",
              "      <td>Yucatan</td>\n",
              "      <td>Cozumel</td>\n",
              "      <td>Swmming</td>\n",
              "      <td>A cacique (a chief)</td>\n",
              "      <td>M</td>\n",
              "      <td>NaN</td>\n",
              "      <td>Toes severed</td>\n",
              "      <td>N</td>\n",
              "      <td>NaN</td>\n",
              "      <td>NaN</td>\n",
              "      <td>C. Moore, GSAF</td>\n",
              "    </tr>\n",
              "    <tr>\n",
              "      <th>6857</th>\n",
              "      <td>Ca 1200-1500 A.D.</td>\n",
              "      <td>1500</td>\n",
              "      <td>Unprovoked</td>\n",
              "      <td>MEXICO</td>\n",
              "      <td>NaN</td>\n",
              "      <td>NaN</td>\n",
              "      <td>NaN</td>\n",
              "      <td>male</td>\n",
              "      <td>M</td>\n",
              "      <td>NaN</td>\n",
              "      <td>Foot severed</td>\n",
              "      <td>N</td>\n",
              "      <td>NaN</td>\n",
              "      <td>NaN</td>\n",
              "      <td>J. Castro</td>\n",
              "    </tr>\n",
              "    <tr>\n",
              "      <th>6858</th>\n",
              "      <td>Ca.789-1033 A.D</td>\n",
              "      <td>1000</td>\n",
              "      <td>Unprovoked</td>\n",
              "      <td>USA</td>\n",
              "      <td>Puerto Rico</td>\n",
              "      <td>Archeological site</td>\n",
              "      <td>NaN</td>\n",
              "      <td>male</td>\n",
              "      <td>M</td>\n",
              "      <td>29</td>\n",
              "      <td>FATAL</td>\n",
              "      <td>N</td>\n",
              "      <td>NaN</td>\n",
              "      <td>Tiger shark</td>\n",
              "      <td>P. Seigel</td>\n",
              "    </tr>\n",
              "    <tr>\n",
              "      <th>6859</th>\n",
              "      <td>Ca. 77  A.D.</td>\n",
              "      <td>77</td>\n",
              "      <td>Unprovoked</td>\n",
              "      <td>NaN</td>\n",
              "      <td>Ionian Sea</td>\n",
              "      <td>NaN</td>\n",
              "      <td>Sponge diving</td>\n",
              "      <td>males</td>\n",
              "      <td>M</td>\n",
              "      <td>NaN</td>\n",
              "      <td>FATAL</td>\n",
              "      <td>Y</td>\n",
              "      <td>NaN</td>\n",
              "      <td>NaN</td>\n",
              "      <td>Perils mentioned by Pliny the Elder (23 A.D. t...</td>\n",
              "    </tr>\n",
              "    <tr>\n",
              "      <th>6860</th>\n",
              "      <td>Ca. 5 A.D.</td>\n",
              "      <td>5</td>\n",
              "      <td>Unprovoked</td>\n",
              "      <td>AUSTRALIA</td>\n",
              "      <td>New South Wales</td>\n",
              "      <td>Bondi</td>\n",
              "      <td>NaN</td>\n",
              "      <td>male</td>\n",
              "      <td>M</td>\n",
              "      <td>NaN</td>\n",
              "      <td>Aboriginal rock carving depicts man being atta...</td>\n",
              "      <td>N</td>\n",
              "      <td>NaN</td>\n",
              "      <td>NaN</td>\n",
              "      <td>Waverly Library</td>\n",
              "    </tr>\n",
              "  </tbody>\n",
              "</table>\n",
              "<p>6859 rows × 15 columns</p>\n",
              "</div>"
            ],
            "text/plain": [
              "                     Date  Year        Type        Country  \\\n",
              "0     2025-01-11 00:00:00  2025    Provoked            USA   \n",
              "1     2025-01-02 00:00:00  2025  Unprovoked  New Caledonia   \n",
              "2     2025-01-02 00:00:00  2025  Unprovoked      Australia   \n",
              "3     2024-12-29 00:00:00  2024  Unprovoked          Egypt   \n",
              "4     2024-12-29 00:00:00  2024  Unprovoked          Egypt   \n",
              "...                   ...   ...         ...            ...   \n",
              "6856        Ca 1588.04.00  1518  Unprovoked         MEXICO   \n",
              "6857    Ca 1200-1500 A.D.  1500  Unprovoked         MEXICO   \n",
              "6858      Ca.789-1033 A.D  1000  Unprovoked            USA   \n",
              "6859         Ca. 77  A.D.    77  Unprovoked            NaN   \n",
              "6860           Ca. 5 A.D.     5  Unprovoked      AUSTRALIA   \n",
              "\n",
              "                    State                                 Location  \\\n",
              "0                  Hawaii            Off Haleiwa Boat Harbour Oahu   \n",
              "1            Grande Terre              Islet of Kendek near Koumac   \n",
              "2         South Australia  Granites Beach near Westall Streaky Bay   \n",
              "3     North of Marsa Alam                                  Red Sea   \n",
              "4     North of Marsa Alam                                  Red Sea   \n",
              "...                   ...                                      ...   \n",
              "6856              Yucatan                                  Cozumel   \n",
              "6857                  NaN                                      NaN   \n",
              "6858          Puerto Rico                       Archeological site   \n",
              "6859           Ionian Sea                                      NaN   \n",
              "6860      New South Wales                                    Bondi   \n",
              "\n",
              "           Activity                                    Name Sex  Age  \\\n",
              "0            Diving  Male not stated was a dive tour worker   M   23   \n",
              "1      Spearfishing                        Robert Cuewapuru   M   40   \n",
              "2           Surfing                           Lance Appleby   M   28   \n",
              "3      SCUBA Diving                         Peppino Fappani   M   69   \n",
              "4      SCUBA Diving                       Gianluca Di Gioia   M   48   \n",
              "...             ...                                     ...  ..  ...   \n",
              "6856        Swmming                     A cacique (a chief)   M  NaN   \n",
              "6857            NaN                                    male   M  NaN   \n",
              "6858            NaN                                    male   M   29   \n",
              "6859  Sponge diving                                   males   M  NaN   \n",
              "6860            NaN                                    male   M  NaN   \n",
              "\n",
              "                                                 Injury Fatal Y/N     Time  \\\n",
              "0                                     Bitten on the arm         N  1340hrs   \n",
              "1     Severe arm injury and delay in medical treatme...         Y   1615hr   \n",
              "2                                    Body not recovered         Y   1710hr   \n",
              "3       Injuries to stomach preventing attack on friend         N        ?   \n",
              "4     Entire calf muscle removed and bitten both arm...         Y        ?   \n",
              "...                                                 ...       ...      ...   \n",
              "6856                                       Toes severed         N      NaN   \n",
              "6857                                       Foot severed         N      NaN   \n",
              "6858                                              FATAL         N      NaN   \n",
              "6859                                              FATAL         Y      NaN   \n",
              "6860  Aboriginal rock carving depicts man being atta...         N      NaN   \n",
              "\n",
              "                                    Species   \\\n",
              "0                                 Not stated   \n",
              "1             Reportedly Tiger or Bull shark   \n",
              "2     Great White Shart estimated 4.8m 16 ft   \n",
              "3                   Reportedly a Tiger Shark   \n",
              "4                   Reportedly a Tiger Shark   \n",
              "...                                      ...   \n",
              "6856                                     NaN   \n",
              "6857                                     NaN   \n",
              "6858                             Tiger shark   \n",
              "6859                                     NaN   \n",
              "6860                                     NaN   \n",
              "\n",
              "                                                 Source  \n",
              "0                     Kevin McMurray Trackingsharks.com  \n",
              "1                         Johannes Marchand Todd Smith   \n",
              "2     Glen Folkard: Simon De Marchi News.com.au: The...  \n",
              "3     Todd Smith : Kevin McMurray Trackingsharks .co...  \n",
              "4     Todd Smith : Kevin McMurray Trackingsharks .co...  \n",
              "...                                                 ...  \n",
              "6856                                     C. Moore, GSAF  \n",
              "6857                                          J. Castro  \n",
              "6858                                          P. Seigel  \n",
              "6859  Perils mentioned by Pliny the Elder (23 A.D. t...  \n",
              "6860                                    Waverly Library  \n",
              "\n",
              "[6859 rows x 15 columns]"
            ]
          },
          "execution_count": 138,
          "metadata": {},
          "output_type": "execute_result"
        }
      ],
      "source": [
        "import pandas as pd\n",
        "import matplotlib.pyplot as plt\n",
        "\n",
        "df = pd.read_excel('./data/shark_attacks.xls')\n",
        "df = df.iloc[:, :15] # deleting columns with no data\n",
        "df['Year'] = pd.to_numeric(df['Year'], errors='coerce') # cleaning year\n",
        "df = df[df['Year'].notna()]\n",
        "df['Year'] = df['Year'].astype(int)\n",
        "df = df[df['Year'] > 4]\n",
        "df"
      ]
    },
    {
      "cell_type": "markdown",
      "id": "12ed928d",
      "metadata": {},
      "source": [
        "Given the head and tails of data above, the range of years spans from 5 to 2025."
      ]
    },
    {
      "cell_type": "code",
      "execution_count": 139,
      "id": "ca5b59b5",
      "metadata": {},
      "outputs": [
        {
          "data": {
            "image/png": "[encoded data removed]",
            "text/plain": [
              "<Figure size 640x480 with 1 Axes>"
            ]
          },
          "metadata": {},
          "output_type": "display_data"
        }
      ],
      "source": [
        "yearly_attacks = df[df['Year'] >= 1940].groupby('Year').size()\n",
        "plt.plot(yearly_attacks.index, yearly_attacks.values)\n",
        "plt.title('Shark Attacks by Year (since 1940)')\n",
        "plt.xlabel('Year')\n",
        "plt.ylabel('Number of Attacks')\n",
        "plt.show()"
      ]
    },
    {
      "cell_type": "markdown",
      "id": "a100278f",
      "metadata": {},
      "source": [
        "Using the data from the plot above, we can see that there has been an overall increase of shark attacks since 1940. There was a peak in the early 1960s that dropped down not long after. However, since 1990 there has been a steady increase."
      ]
    },
    {
      "cell_type": "code",
      "execution_count": 140,
      "id": "7897e70e",
      "metadata": {},
      "outputs": [
        {
          "name": "stderr",
          "output_type": "stream",
          "text": [
            "/var/folders/sz/cdb9zr597xq7kdzbqnsgf72r0000gn/T/ipykernel_26842/1431352227.py:2: SettingWithCopyWarning: \n",
            "A value is trying to be set on a copy of a slice from a DataFrame.\n",
            "Try using .loc[row_indexer,col_indexer] = value instead\n",
            "\n",
            "See the caveats in the documentation: https://pandas.pydata.org/pandas-docs/stable/user_guide/indexing.html#returning-a-view-versus-a-copy\n",
            "  df['Age'] = df['Age'].astype(int)\n"
          ]
        },
        {
          "data": {
            "image/png": "[encoded data removed]",
            "text/plain": [
              "<Figure size 640x480 with 1 Axes>"
            ]
          },
          "metadata": {},
          "output_type": "display_data"
        }
      ],
      "source": [
        "df = df[df['Age'].apply(lambda x: str(x).isdigit())]\n",
        "df['Age'] = df['Age'].astype(int)\n",
        "df.loc[:, 'Age'] = df['Age'].astype(int)\n",
        "plt.hist(df['Age'])\n",
        "plt.title('Age Distribution of Shark Attack Victims')\n",
        "plt.xlabel('Age')\n",
        "plt.ylabel('Number of Victims')\n",
        "plt.show()"
      ]
    },
    {
      "cell_type": "code",
      "execution_count": 141,
      "id": "b952dd5c",
      "metadata": {},
      "outputs": [
        {
          "name": "stdout",
          "output_type": "stream",
          "text": [
            "Proportion of male victims: 84.50%\n"
          ]
        }
      ],
      "source": [
        "proportion = (df['Sex'].str.upper().str.strip() == 'M').mean()\n",
        "print(f\"Proportion of male victims: {proportion:.2%}\")"
      ]
    },
    {
      "cell_type": "code",
      "execution_count": 142,
      "id": "090aa04d",
      "metadata": {},
      "outputs": [
        {
          "name": "stdout",
          "output_type": "stream",
          "text": [
            "Proportion of unprovoked attacks: 83.28%\n"
          ]
        }
      ],
      "source": [
        "df.loc[:, 'Type'] = df['Type'].str.lower().str.strip()\n",
        "df.loc[:, 'Type'] = df['Type'].apply(lambda x: 'Unprovoked' if 'unprovoked' in str(x) \n",
        "                                    else 'Provoked' if 'provoked' in str(x) \n",
        "                                    else 'Unknown')\n",
        "\n",
        "unprovoked_proportion = (df['Type'] == 'Unprovoked').mean()\n",
        "print(f\"Proportion of unprovoked attacks: {unprovoked_proportion:.2%}\")"
      ]
    },
    {
      "cell_type": "code",
      "execution_count": 143,
      "id": "b1751194",
      "metadata": {},
      "outputs": [
        {
          "data": {
            "text/plain": [
              "array(['N', 'Y', 'UNKNOWN'], dtype=object)"
            ]
          },
          "execution_count": 143,
          "metadata": {},
          "output_type": "execute_result"
        }
      ],
      "source": [
        "df.loc[:, 'Fatal Y/N'] = df['Fatal Y/N'].str.upper().str.strip()\n",
        "df.loc[:, 'Fatal Y/N'] = df['Fatal Y/N'].apply(lambda x: 'UNKNOWN' if 'UNKNOWN' in str(x) \n",
        "                                    else 'Y' if 'Y' in str(x)\n",
        "                                    else 'N' if 'N' in str(x)\n",
        "                                    else 'UNKNOWN')\n",
        "df['Fatal Y/N'].unique()"
      ]
    },
    {
      "cell_type": "code",
      "execution_count": 144,
      "id": "28ae927d",
      "metadata": {},
      "outputs": [
        {
          "name": "stdout",
          "output_type": "stream",
          "text": [
            "Proportion of unprovoked attacks on men: 83.95%\n",
            "Proportion of unprovoked attacks on women: 15.26%\n",
            "Proportion of provoked attacks that are fatal: 2.63%\n",
            "Proportion of unprovoked attacks that are fatal: 19.46%\n",
            "Proportion of attacks on men that are fatal: 17.64%\n",
            "Proportion of attacks on women that are fatal: 14.08%\n"
          ]
        }
      ],
      "source": [
        "provoked = df[df['Type'] == 'Provoked']\n",
        "unprovoked = df[df['Type'] == 'Unprovoked']\n",
        "m_attacks = df[df['Sex'] == 'M']\n",
        "f_attacks = df[df['Sex'] == 'F']\n",
        "\n",
        "male_proportion = (unprovoked['Sex'] == 'M').mean()\n",
        "print(f\"Proportion of unprovoked attacks on men: {male_proportion:.2%}\")\n",
        "\n",
        "female_proportion = (unprovoked['Sex'] == 'F').mean()\n",
        "print(f\"Proportion of unprovoked attacks on women: {female_proportion:.2%}\")\n",
        "\n",
        "fatalp_proportion = (provoked['Fatal Y/N'] == 'Y').mean()\n",
        "print(f\"Proportion of provoked attacks that are fatal: {fatalp_proportion:.2%}\")\n",
        "\n",
        "fatalu_proportion = (unprovoked['Fatal Y/N'] == 'Y').mean()\n",
        "print(f\"Proportion of unprovoked attacks that are fatal: {fatalu_proportion:.2%}\")\n",
        "\n",
        "fatalm_proportion = (m_attacks['Fatal Y/N'] == 'Y').mean()\n",
        "print(f\"Proportion of attacks on men that are fatal: {fatalm_proportion:.2%}\")\n",
        "\n",
        "fatalf_proportion = (f_attacks['Fatal Y/N'] == 'Y').mean()\n",
        "print(f\"Proportion of attacks on women that are fatal: {fatalf_proportion:.2%}\")"
      ]
    },
    {
      "cell_type": "markdown",
      "id": "a4b42057",
      "metadata": {},
      "source": [
        "Based on the proportions above...\n",
        "- Men are more likely to be victims of unprovoked attacks.\n",
        "- Unprovoked attacks are more likely to be fatal.\n",
        "- Men are more likely to succumb to fatal attacks.\n",
        "- I feel slightly more scared of sharks today than I did last week."
      ]
    },
    {
      "cell_type": "code",
      "execution_count": 145,
      "id": "02479e83",
      "metadata": {},
      "outputs": [
        {
          "name": "stdout",
          "output_type": "stream",
          "text": [
            "Proportion of attacks from white sharks: 12.74%\n"
          ]
        }
      ],
      "source": [
        "white_proportion = df.iloc[:, 13].str.lower().str.contains('white', na=False).mean()\n",
        "print(f\"Proportion of attacks from white sharks: {white_proportion:.2%}\")"
      ]
    },
    {
      "cell_type": "markdown",
      "id": "5735a4d4-8be8-433a-a351-70eb8002e632",
      "metadata": {
        "id": "5735a4d4-8be8-433a-a351-70eb8002e632"
      },
      "source": [
        "**Q3.** Open the \"tidy_data.pdf\" document in the repo, which is a paper called Tidy Data by Hadley Wickham.\n",
        "\n",
        "  1. Read the abstract. What is this paper about?\n",
        "  2. Read the introduction. What is the \"tidy data standard\" intended to accomplish?\n",
        "  3. Read the intro to section 2. What does this sentence mean: \"Like families, tidy datasets are all alike but every messy dataset is messy in its own way.\" What does this sentence mean: \"For a given dataset, it’s usually easy to figure out what are observations and what are variables, but it is surprisingly difficult to precisely define variables and observations in general.\"\n",
        "  4. Read Section 2.2. How does Wickham define values, variables, and observations?\n",
        "  5. How is \"Tidy Data\" defined in section 2.3?\n",
        "  6. Read the intro to Section 3 and Section 3.1. What are the 5 most common problems with messy datasets? Why are the data in Table 4 messy? What is \"melting\" a dataset?\n",
        "  7. Why, specifically, is table 11 messy but table 12 tidy and \"molten\"?\n",
        "  8. Read Section 6. What is the \"chicken-and-egg\" problem with focusing on tidy data? What does Wickham hope happens in the future with further work on the subject of data wrangling?"
      ]
    },
    {
      "cell_type": "markdown",
      "id": "649494cd-cfd6-4f80-992a-9994fc19e1d5",
      "metadata": {
        "id": "649494cd-cfd6-4f80-992a-9994fc19e1d5"
      },
      "source": [
        "**Q4.** Many important datasets contain a race variable, typically limited to a handful of values often including Black, White, Asian, Latino, and Indigenous. This question looks at data gathering efforts on this variable by the U.S. Federal government.\n",
        "\n",
        "1. How did the most recent US Census gather data on race?\n",
        "2. Why do we gather these data? What role do these kinds of data play in politics and society? Why does data quality matter?\n",
        "3. Please provide a constructive criticism of how the Census was conducted: What was done well? What do you think was missing? How should future large scale surveys be adjusted to best reflect the diversity of the population? Could some of the Census' good practices be adopted more widely to gather richer and more useful data?\n",
        "4. How did the Census gather data on sex and gender? Please provide a similar constructive criticism of their practices.\n",
        "5. When it comes to cleaning data, what concerns do you have about protected characteristics like sex, gender, sexual identity, or race? What challenges can you imagine arising when there are missing values? What good or bad practices might people adopt, and why?\n",
        "6. Suppose someone invented an algorithm to impute values for protected characteristics like race, gender, sex, or sexuality. What kinds of concerns would you have?"
      ]
    }
  ],
  "metadata": {
    "colab": {
      "provenance": []
    },
    "kernelspec": {
      "display_name": "Python 3 (ipykernel)",
      "language": "python",
      "name": "python3"
    },
    "language_info": {
      "codemirror_mode": {
        "name": "ipython",
        "version": 3
      },
      "file_extension": ".py",
      "mimetype": "text/x-python",
      "name": "python",
      "nbconvert_exporter": "python",
      "pygments_lexer": "ipython3",
      "version": "3.12.3"
    }
  },
  "nbformat": 4,
  "nbformat_minor": 5
}
